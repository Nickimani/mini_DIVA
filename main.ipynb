{
  "cells": [
    {
      "cell_type": "markdown",
      "metadata": {
        "id": "view-in-github",
        "colab_type": "text"
      },
      "source": [
        "<a href=\"https://colab.research.google.com/github/Nickimani/mini_DIVA/blob/main/main.ipynb\" target=\"_parent\"><img src=\"https://colab.research.google.com/assets/colab-badge.svg\" alt=\"Open In Colab\"/></a>"
      ]
    },
    {
      "cell_type": "code",
      "source": [
        "from google.colab import drive\n",
        "drive.mount('/content/drive')\n",
        "%cd '/content/drive/My Drive/Mini_DIVA/'"
      ],
      "metadata": {
        "id": "8anymtAB7uJ8",
        "colab": {
          "base_uri": "https://localhost:8080/"
        },
        "outputId": "fafd26b6-84ff-477a-9193-c0936397c569"
      },
      "execution_count": null,
      "outputs": [
        {
          "output_type": "stream",
          "name": "stdout",
          "text": [
            "Mounted at /content/drive\n",
            "/content/drive/My Drive/Mini_DIVA\n"
          ]
        }
      ]
    },
    {
      "cell_type": "code",
      "source": [
        "# !pip install -r requirements.txt\n",
        "# !pip install utils"
      ],
      "metadata": {
        "id": "6vxV6USSvLNR"
      },
      "execution_count": null,
      "outputs": []
    },
    {
      "cell_type": "code",
      "execution_count": null,
      "metadata": {
        "id": "ab7EadSD7nsS"
      },
      "outputs": [],
      "source": [
        "from utils import *\n",
        "from tqdm import tqdm\n",
        "import matplotlib.pyplot as plt\n",
        "import seaborn as sns"
      ]
    },
    {
      "cell_type": "markdown",
      "metadata": {
        "id": "_Nzxl5EK7nsW"
      },
      "source": [
        "## Evaluate imputation methods"
      ]
    },
    {
      "cell_type": "code",
      "source": [
        "from google.colab import drive\n",
        "drive.mount('/content/drive')"
      ],
      "metadata": {
        "colab": {
          "base_uri": "https://localhost:8080/"
        },
        "id": "zPN9-bKfshWr",
        "outputId": "78a5207f-c29e-4541-f545-7e8da851f33e"
      },
      "execution_count": null,
      "outputs": [
        {
          "output_type": "stream",
          "name": "stdout",
          "text": [
            "Drive already mounted at /content/drive; to attempt to forcibly remount, call drive.mount(\"/content/drive\", force_remount=True).\n"
          ]
        }
      ]
    },
    {
      "cell_type": "code",
      "execution_count": null,
      "metadata": {
        "id": "jblmzO8C7nsY"
      },
      "outputs": [],
      "source": [
        "data, X, y, Xinds, yinds = read_dataset(dataset=\"monks\")"
      ]
    },
    {
      "cell_type": "code",
      "execution_count": null,
      "metadata": {
        "colab": {
          "base_uri": "https://localhost:8080/"
        },
        "id": "p9uO0Q8D7nsZ",
        "outputId": "61686e75-9604-4ca2-f718-5ebfdfe1bbeb"
      },
      "outputs": [
        {
          "output_type": "stream",
          "name": "stdout",
          "text": [
            "0.744371459223429\n"
          ]
        }
      ],
      "source": [
        "impute_fraction = 0.2\n",
        "random_state = 42\n",
        "impute_method = \"customMICE\"\n",
        "error_method = \"mix\"\n",
        "n_neighbors = 7\n",
        "\n",
        "thres = 100\n",
        "X_miss, X_miss_idx = set_fraction_missing(\n",
        "    X, fraction=impute_fraction, random_state=random_state\n",
        ")\n",
        "X_imp, X_le = impute(\n",
        "    X_miss,\n",
        "    X,\n",
        "    y,\n",
        "    encoding=\"one-hot\",\n",
        "    train_idx=X.index[:thres],\n",
        "    test_idx=X.index[thres:],\n",
        "    method=impute_method,\n",
        ")\n",
        "error = evaluate_imputation(\n",
        "    X,\n",
        "    X_imp.iloc[thres:],\n",
        "    X_le.iloc[thres:],\n",
        "    X_miss_idx.iloc[thres:],\n",
        "    error_method=error_method,\n",
        ")\n",
        "print(error)"
      ]
    },
    {
      "cell_type": "code",
      "execution_count": null,
      "metadata": {
        "colab": {
          "base_uri": "https://localhost:8080/"
        },
        "id": "ZMSvTcYx7nsa",
        "outputId": "67c9667d-37f3-4103-9e2a-37398a9308a5"
      },
      "outputs": [
        {
          "output_type": "stream",
          "name": "stderr",
          "text": [
            "100%|██████████| 3/3 [00:11<00:00,  3.73s/it]\n",
            "100%|██████████| 3/3 [01:01<00:00, 20.56s/it]\n"
          ]
        }
      ],
      "source": [
        "dataset = \"automobile\"\n",
        "data, X, y, Xinds, yinds = read_dataset(dataset=dataset)\n",
        "\n",
        "# evaluate imputation results for different imputation methods and fractions of missing values\n",
        "impute_methods = [\"mode\", \"customMICE\"]  # 'zero', 'median']\n",
        "impute_fractions = [0.25, 0.5, 0.75]\n",
        "impute_seeds = [0, 10]  # np.arange(10)\n",
        "\n",
        "results = {}\n",
        "for impute_method in impute_methods:\n",
        "    for impute_fraction in tqdm(impute_fractions):\n",
        "        for impute_seed in impute_seeds:\n",
        "            acc, error, X_miss, X_miss_idx, X_imp, X_le = train_impute_classifier(\n",
        "                X,\n",
        "                y,\n",
        "                encoding=\"one-hot\",\n",
        "                impute_method=impute_method,\n",
        "                error_method=\"mix\",\n",
        "                impute_fraction=impute_fraction,\n",
        "                random_state=impute_seed,\n",
        "            )\n",
        "            for i in range(5):\n",
        "                results[(impute_method, impute_fraction, impute_seed, i + 1)] = {\n",
        "                    \"acc\": acc[i],\n",
        "                    \"err\": error[i],\n",
        "                }"
      ]
    },
    {
      "cell_type": "code",
      "execution_count": null,
      "metadata": {
        "id": "1Q7ex_3l7nsb"
      },
      "outputs": [],
      "source": [
        "# convert results to dataframe\n",
        "df_ = {}\n",
        "for i, key in enumerate([\"impute_method\", \"impute_fraction\", \"impute_seed\", \"fold\"]):\n",
        "    df_[key] = [error[i] for error in results.keys()]\n",
        "\n",
        "df_[\"accuracy\"] = [metric[\"acc\"] for metric in results.values()]\n",
        "df_[\"error\"] = [metric[\"err\"] for metric in results.values()]\n",
        "results_df = pd.DataFrame.from_dict(df_)"
      ]
    },
    {
      "cell_type": "code",
      "execution_count": null,
      "metadata": {
        "colab": {
          "base_uri": "https://localhost:8080/"
        },
        "id": "0L1SLynr7nsb",
        "outputId": "b9eba594-edde-48f0-f35d-6136b7874428"
      },
      "outputs": [
        {
          "output_type": "execute_result",
          "data": {
            "text/plain": [
              "  impute_method impute_fraction     error            accuracy          \n",
              "                                     mean       std      mean       std\n",
              "0    customMICE            0.25  0.927675  0.129736  0.879762  0.011896\n",
              "3          mode            0.25  1.887841  0.184518  0.867806  0.012438\n",
              "1    customMICE            0.50  1.206425  0.129717  0.849791  0.015273\n",
              "4          mode            0.50  1.801025  0.090816  0.829590  0.023997\n",
              "2    customMICE            0.75  1.655700  0.092224  0.755759  0.027714\n",
              "5          mode            0.75  1.828772  0.106774  0.770184  0.045068"
            ],
            "text/html": [
              "\n",
              "  <div id=\"df-5813459b-a888-4656-997a-d1c6daa16c71\" class=\"colab-df-container\">\n",
              "    <div>\n",
              "<style scoped>\n",
              "    .dataframe tbody tr th:only-of-type {\n",
              "        vertical-align: middle;\n",
              "    }\n",
              "\n",
              "    .dataframe tbody tr th {\n",
              "        vertical-align: top;\n",
              "    }\n",
              "\n",
              "    .dataframe thead tr th {\n",
              "        text-align: left;\n",
              "    }\n",
              "</style>\n",
              "<table border=\"1\" class=\"dataframe\">\n",
              "  <thead>\n",
              "    <tr>\n",
              "      <th></th>\n",
              "      <th>impute_method</th>\n",
              "      <th>impute_fraction</th>\n",
              "      <th colspan=\"2\" halign=\"left\">error</th>\n",
              "      <th colspan=\"2\" halign=\"left\">accuracy</th>\n",
              "    </tr>\n",
              "    <tr>\n",
              "      <th></th>\n",
              "      <th></th>\n",
              "      <th></th>\n",
              "      <th>mean</th>\n",
              "      <th>std</th>\n",
              "      <th>mean</th>\n",
              "      <th>std</th>\n",
              "    </tr>\n",
              "  </thead>\n",
              "  <tbody>\n",
              "    <tr>\n",
              "      <th>0</th>\n",
              "      <td>customMICE</td>\n",
              "      <td>0.25</td>\n",
              "      <td>0.927675</td>\n",
              "      <td>0.129736</td>\n",
              "      <td>0.879762</td>\n",
              "      <td>0.011896</td>\n",
              "    </tr>\n",
              "    <tr>\n",
              "      <th>3</th>\n",
              "      <td>mode</td>\n",
              "      <td>0.25</td>\n",
              "      <td>1.887841</td>\n",
              "      <td>0.184518</td>\n",
              "      <td>0.867806</td>\n",
              "      <td>0.012438</td>\n",
              "    </tr>\n",
              "    <tr>\n",
              "      <th>1</th>\n",
              "      <td>customMICE</td>\n",
              "      <td>0.50</td>\n",
              "      <td>1.206425</td>\n",
              "      <td>0.129717</td>\n",
              "      <td>0.849791</td>\n",
              "      <td>0.015273</td>\n",
              "    </tr>\n",
              "    <tr>\n",
              "      <th>4</th>\n",
              "      <td>mode</td>\n",
              "      <td>0.50</td>\n",
              "      <td>1.801025</td>\n",
              "      <td>0.090816</td>\n",
              "      <td>0.829590</td>\n",
              "      <td>0.023997</td>\n",
              "    </tr>\n",
              "    <tr>\n",
              "      <th>2</th>\n",
              "      <td>customMICE</td>\n",
              "      <td>0.75</td>\n",
              "      <td>1.655700</td>\n",
              "      <td>0.092224</td>\n",
              "      <td>0.755759</td>\n",
              "      <td>0.027714</td>\n",
              "    </tr>\n",
              "    <tr>\n",
              "      <th>5</th>\n",
              "      <td>mode</td>\n",
              "      <td>0.75</td>\n",
              "      <td>1.828772</td>\n",
              "      <td>0.106774</td>\n",
              "      <td>0.770184</td>\n",
              "      <td>0.045068</td>\n",
              "    </tr>\n",
              "  </tbody>\n",
              "</table>\n",
              "</div>\n",
              "    <div class=\"colab-df-buttons\">\n",
              "\n",
              "  <div class=\"colab-df-container\">\n",
              "    <button class=\"colab-df-convert\" onclick=\"convertToInteractive('df-5813459b-a888-4656-997a-d1c6daa16c71')\"\n",
              "            title=\"Convert this dataframe to an interactive table.\"\n",
              "            style=\"display:none;\">\n",
              "\n",
              "  <svg xmlns=\"http://www.w3.org/2000/svg\" height=\"24px\" viewBox=\"0 -960 960 960\">\n",
              "    <path d=\"M120-120v-720h720v720H120Zm60-500h600v-160H180v160Zm220 220h160v-160H400v160Zm0 220h160v-160H400v160ZM180-400h160v-160H180v160Zm440 0h160v-160H620v160ZM180-180h160v-160H180v160Zm440 0h160v-160H620v160Z\"/>\n",
              "  </svg>\n",
              "    </button>\n",
              "\n",
              "  <style>\n",
              "    .colab-df-container {\n",
              "      display:flex;\n",
              "      gap: 12px;\n",
              "    }\n",
              "\n",
              "    .colab-df-convert {\n",
              "      background-color: #E8F0FE;\n",
              "      border: none;\n",
              "      border-radius: 50%;\n",
              "      cursor: pointer;\n",
              "      display: none;\n",
              "      fill: #1967D2;\n",
              "      height: 32px;\n",
              "      padding: 0 0 0 0;\n",
              "      width: 32px;\n",
              "    }\n",
              "\n",
              "    .colab-df-convert:hover {\n",
              "      background-color: #E2EBFA;\n",
              "      box-shadow: 0px 1px 2px rgba(60, 64, 67, 0.3), 0px 1px 3px 1px rgba(60, 64, 67, 0.15);\n",
              "      fill: #174EA6;\n",
              "    }\n",
              "\n",
              "    .colab-df-buttons div {\n",
              "      margin-bottom: 4px;\n",
              "    }\n",
              "\n",
              "    [theme=dark] .colab-df-convert {\n",
              "      background-color: #3B4455;\n",
              "      fill: #D2E3FC;\n",
              "    }\n",
              "\n",
              "    [theme=dark] .colab-df-convert:hover {\n",
              "      background-color: #434B5C;\n",
              "      box-shadow: 0px 1px 3px 1px rgba(0, 0, 0, 0.15);\n",
              "      filter: drop-shadow(0px 1px 2px rgba(0, 0, 0, 0.3));\n",
              "      fill: #FFFFFF;\n",
              "    }\n",
              "  </style>\n",
              "\n",
              "    <script>\n",
              "      const buttonEl =\n",
              "        document.querySelector('#df-5813459b-a888-4656-997a-d1c6daa16c71 button.colab-df-convert');\n",
              "      buttonEl.style.display =\n",
              "        google.colab.kernel.accessAllowed ? 'block' : 'none';\n",
              "\n",
              "      async function convertToInteractive(key) {\n",
              "        const element = document.querySelector('#df-5813459b-a888-4656-997a-d1c6daa16c71');\n",
              "        const dataTable =\n",
              "          await google.colab.kernel.invokeFunction('convertToInteractive',\n",
              "                                                    [key], {});\n",
              "        if (!dataTable) return;\n",
              "\n",
              "        const docLinkHtml = 'Like what you see? Visit the ' +\n",
              "          '<a target=\"_blank\" href=https://colab.research.google.com/notebooks/data_table.ipynb>data table notebook</a>'\n",
              "          + ' to learn more about interactive tables.';\n",
              "        element.innerHTML = '';\n",
              "        dataTable['output_type'] = 'display_data';\n",
              "        await google.colab.output.renderOutput(dataTable, element);\n",
              "        const docLink = document.createElement('div');\n",
              "        docLink.innerHTML = docLinkHtml;\n",
              "        element.appendChild(docLink);\n",
              "      }\n",
              "    </script>\n",
              "  </div>\n",
              "\n",
              "\n",
              "<div id=\"df-35a417b1-824a-42b4-88d5-38a7184ee104\">\n",
              "  <button class=\"colab-df-quickchart\" onclick=\"quickchart('df-35a417b1-824a-42b4-88d5-38a7184ee104')\"\n",
              "            title=\"Suggest charts\"\n",
              "            style=\"display:none;\">\n",
              "\n",
              "<svg xmlns=\"http://www.w3.org/2000/svg\" height=\"24px\"viewBox=\"0 0 24 24\"\n",
              "     width=\"24px\">\n",
              "    <g>\n",
              "        <path d=\"M19 3H5c-1.1 0-2 .9-2 2v14c0 1.1.9 2 2 2h14c1.1 0 2-.9 2-2V5c0-1.1-.9-2-2-2zM9 17H7v-7h2v7zm4 0h-2V7h2v10zm4 0h-2v-4h2v4z\"/>\n",
              "    </g>\n",
              "</svg>\n",
              "  </button>\n",
              "\n",
              "<style>\n",
              "  .colab-df-quickchart {\n",
              "      --bg-color: #E8F0FE;\n",
              "      --fill-color: #1967D2;\n",
              "      --hover-bg-color: #E2EBFA;\n",
              "      --hover-fill-color: #174EA6;\n",
              "      --disabled-fill-color: #AAA;\n",
              "      --disabled-bg-color: #DDD;\n",
              "  }\n",
              "\n",
              "  [theme=dark] .colab-df-quickchart {\n",
              "      --bg-color: #3B4455;\n",
              "      --fill-color: #D2E3FC;\n",
              "      --hover-bg-color: #434B5C;\n",
              "      --hover-fill-color: #FFFFFF;\n",
              "      --disabled-bg-color: #3B4455;\n",
              "      --disabled-fill-color: #666;\n",
              "  }\n",
              "\n",
              "  .colab-df-quickchart {\n",
              "    background-color: var(--bg-color);\n",
              "    border: none;\n",
              "    border-radius: 50%;\n",
              "    cursor: pointer;\n",
              "    display: none;\n",
              "    fill: var(--fill-color);\n",
              "    height: 32px;\n",
              "    padding: 0;\n",
              "    width: 32px;\n",
              "  }\n",
              "\n",
              "  .colab-df-quickchart:hover {\n",
              "    background-color: var(--hover-bg-color);\n",
              "    box-shadow: 0 1px 2px rgba(60, 64, 67, 0.3), 0 1px 3px 1px rgba(60, 64, 67, 0.15);\n",
              "    fill: var(--button-hover-fill-color);\n",
              "  }\n",
              "\n",
              "  .colab-df-quickchart-complete:disabled,\n",
              "  .colab-df-quickchart-complete:disabled:hover {\n",
              "    background-color: var(--disabled-bg-color);\n",
              "    fill: var(--disabled-fill-color);\n",
              "    box-shadow: none;\n",
              "  }\n",
              "\n",
              "  .colab-df-spinner {\n",
              "    border: 2px solid var(--fill-color);\n",
              "    border-color: transparent;\n",
              "    border-bottom-color: var(--fill-color);\n",
              "    animation:\n",
              "      spin 1s steps(1) infinite;\n",
              "  }\n",
              "\n",
              "  @keyframes spin {\n",
              "    0% {\n",
              "      border-color: transparent;\n",
              "      border-bottom-color: var(--fill-color);\n",
              "      border-left-color: var(--fill-color);\n",
              "    }\n",
              "    20% {\n",
              "      border-color: transparent;\n",
              "      border-left-color: var(--fill-color);\n",
              "      border-top-color: var(--fill-color);\n",
              "    }\n",
              "    30% {\n",
              "      border-color: transparent;\n",
              "      border-left-color: var(--fill-color);\n",
              "      border-top-color: var(--fill-color);\n",
              "      border-right-color: var(--fill-color);\n",
              "    }\n",
              "    40% {\n",
              "      border-color: transparent;\n",
              "      border-right-color: var(--fill-color);\n",
              "      border-top-color: var(--fill-color);\n",
              "    }\n",
              "    60% {\n",
              "      border-color: transparent;\n",
              "      border-right-color: var(--fill-color);\n",
              "    }\n",
              "    80% {\n",
              "      border-color: transparent;\n",
              "      border-right-color: var(--fill-color);\n",
              "      border-bottom-color: var(--fill-color);\n",
              "    }\n",
              "    90% {\n",
              "      border-color: transparent;\n",
              "      border-bottom-color: var(--fill-color);\n",
              "    }\n",
              "  }\n",
              "</style>\n",
              "\n",
              "  <script>\n",
              "    async function quickchart(key) {\n",
              "      const quickchartButtonEl =\n",
              "        document.querySelector('#' + key + ' button');\n",
              "      quickchartButtonEl.disabled = true;  // To prevent multiple clicks.\n",
              "      quickchartButtonEl.classList.add('colab-df-spinner');\n",
              "      try {\n",
              "        const charts = await google.colab.kernel.invokeFunction(\n",
              "            'suggestCharts', [key], {});\n",
              "      } catch (error) {\n",
              "        console.error('Error during call to suggestCharts:', error);\n",
              "      }\n",
              "      quickchartButtonEl.classList.remove('colab-df-spinner');\n",
              "      quickchartButtonEl.classList.add('colab-df-quickchart-complete');\n",
              "    }\n",
              "    (() => {\n",
              "      let quickchartButtonEl =\n",
              "        document.querySelector('#df-35a417b1-824a-42b4-88d5-38a7184ee104 button');\n",
              "      quickchartButtonEl.style.display =\n",
              "        google.colab.kernel.accessAllowed ? 'block' : 'none';\n",
              "    })();\n",
              "  </script>\n",
              "</div>\n",
              "    </div>\n",
              "  </div>\n"
            ]
          },
          "metadata": {},
          "execution_count": 9
        }
      ],
      "source": [
        "# get mean and std of accuracy and rmse for each impute method and fraction\n",
        "results_df = (\n",
        "    results_df.groupby([\"impute_method\", \"impute_fraction\"])\n",
        "    .agg({\"error\": [\"mean\", \"std\"], \"accuracy\": [\"mean\", \"std\"]})\n",
        "    .reset_index()\n",
        ")\n",
        "\n",
        "# sort results by best mean rmse\n",
        "results_df.sort_values(by=[\"impute_fraction\", (\"error\", \"mean\")], inplace=True)\n",
        "\n",
        "# print results\n",
        "results_df"
      ]
    },
    {
      "cell_type": "markdown",
      "metadata": {
        "id": "58J1dmHc7nsc"
      },
      "source": [
        "### Multiple fractions missing"
      ]
    },
    {
      "cell_type": "code",
      "execution_count": null,
      "metadata": {
        "colab": {
          "base_uri": "https://localhost:8080/"
        },
        "id": "ubsBOv7i7nsd",
        "outputId": "c8070949-ef83-4e36-c192-8f5f1508929b"
      },
      "outputs": [
        {
          "output_type": "stream",
          "name": "stderr",
          "text": [
            "100%|██████████| 3/3 [00:31<00:00, 10.57s/it]\n",
            "100%|██████████| 3/3 [00:38<00:00, 12.77s/it]\n"
          ]
        }
      ],
      "source": [
        "dataset = \"monks\"\n",
        "data, X, y, Xinds, yinds = read_dataset(dataset=dataset)\n",
        "\n",
        "# evaluate imputation results for different imputation methods and fractions of missing values\n",
        "impute_methods = [\"mode\", \"MICE\"]  # , 'missForest']#['RF', 'RF_OOB', 'RF_GAP']#\n",
        "impute_fractions = np.linspace(0.2, 0.6, 3)  # np.linspace(0.05, 0.45, 19)\n",
        "impute_seeds = np.arange(10)\n",
        "error_method = \"mse\"\n",
        "\n",
        "results = {}\n",
        "for impute_method in impute_methods:\n",
        "    for impute_fraction in tqdm(impute_fractions):\n",
        "        for impute_seed in impute_seeds:\n",
        "            acc, error, X_miss, X_miss_idx, X_imp, X_le = train_impute_classifier(\n",
        "                X,\n",
        "                y,\n",
        "                impute_method=impute_method,\n",
        "                error_method=error_method,\n",
        "                impute_fraction=impute_fraction,\n",
        "                random_state=impute_seed,\n",
        "            )\n",
        "\n",
        "            for i in range(5):\n",
        "                results[(impute_method, impute_fraction, impute_seed, i + 1)] = {\n",
        "                    \"acc\": acc[i],\n",
        "                    \"err\": error[i],\n",
        "                }"
      ]
    },
    {
      "cell_type": "code",
      "execution_count": null,
      "metadata": {
        "id": "FrMN0WHP7nse"
      },
      "outputs": [],
      "source": [
        "# convert results to dataframe\n",
        "df_ = {}\n",
        "for i, key in enumerate([\"impute_method\", \"impute_fraction\", \"impute_seed\", \"fold\"]):\n",
        "    df_[key] = [error[i] for error in results.keys()]\n",
        "df_[\"accuracy\"] = [metric[\"acc\"] for metric in results.values()]\n",
        "df_[\"error\"] = [metric[\"err\"] for metric in results.values()]\n",
        "results_fractions_df = pd.DataFrame.from_dict(df_)"
      ]
    },
    {
      "cell_type": "code",
      "execution_count": null,
      "metadata": {
        "colab": {
          "base_uri": "https://localhost:8080/",
          "height": 610
        },
        "id": "0NBfufyo7nse",
        "outputId": "42ef2e1a-845f-444d-e315-7e6ce60fb208"
      },
      "outputs": [
        {
          "output_type": "display_data",
          "data": {
            "text/plain": [
              "<Figure size 500x300 with 1 Axes>"
            ],
            "image/png": "[encoded data removed]"
          },
          "metadata": {}
        },
        {
          "output_type": "display_data",
          "data": {
            "text/plain": [
              "<Figure size 500x300 with 1 Axes>"
            ],
            "image/png": "[encoded data removed]"
          },
          "metadata": {}
        }
      ],
      "source": [
        "# average over impute seeds\n",
        "results_fractions_df = (\n",
        "    results_fractions_df.groupby([\"impute_method\", \"impute_fraction\"])\n",
        "    .mean()\n",
        "    .reset_index()\n",
        ")\n",
        "\n",
        "# plot results\n",
        "plt.figure(figsize=(5, 3))\n",
        "sns.lineplot(\n",
        "    x=\"impute_fraction\",\n",
        "    y=\"accuracy\",\n",
        "    hue=\"impute_method\",\n",
        "    data=results_fractions_df,\n",
        "    alpha=0.8,\n",
        ")\n",
        "plt.ylabel(\"Accuracy\")\n",
        "plt.xlabel(\"Fraction of Missing Values\")\n",
        "\n",
        "# only include first 9 entries in legend\n",
        "handles, labels = plt.gca().get_legend_handles_labels()\n",
        "plt.legend(fontsize=7)\n",
        "\n",
        "plt.show()\n",
        "\n",
        "plt.figure(figsize=(5, 3))\n",
        "sns.lineplot(\n",
        "    x=\"impute_fraction\",\n",
        "    y=\"error\",\n",
        "    hue=\"impute_method\",\n",
        "    data=results_fractions_df,\n",
        "    alpha=0.8,\n",
        ")\n",
        "plt.ylabel(f\"{error_method.upper()} of Imputed Values\")\n",
        "plt.ylim(0, 1)\n",
        "plt.xlabel(\"Fraction of Missing Values\")\n",
        "\n",
        "handles, labels = plt.gca().get_legend_handles_labels()\n",
        "plt.legend(fontsize=7)\n",
        "\n",
        "plt.show()"
      ]
    },
    {
      "cell_type": "code",
      "execution_count": null,
      "metadata": {
        "colab": {
          "base_uri": "https://localhost:8080/",
          "height": 615
        },
        "id": "5mXaB3vO7nsf",
        "outputId": "a818a29a-77c1-4054-a277-08c85e739167"
      },
      "outputs": [
        {
          "output_type": "display_data",
          "data": {
            "text/plain": [
              "<Figure size 500x300 with 1 Axes>"
            ],
            "image/png": "[encoded data removed]"
          },
          "metadata": {}
        },
        {
          "output_type": "display_data",
          "data": {
            "text/plain": [
              "<Figure size 500x300 with 1 Axes>"
            ],
            "image/png": "[encoded data removed]"
          },
          "metadata": {}
        }
      ],
      "source": [
        "# convert results to dataframe\n",
        "results_fractions_df = pd.DataFrame.from_dict(df_)\n",
        "\n",
        "# get mean and std of accuracy and rmse for each impute method and fraction\n",
        "results_fractions_df = (\n",
        "    results_fractions_df.groupby([\"impute_method\", \"impute_fraction\"])\n",
        "    .agg({\"accuracy\": [\"mean\", \"std\"], \"error\": [\"mean\", \"std\"]})\n",
        "    .reset_index()\n",
        ")\n",
        "\n",
        "# add upper and lower confidence intervals to dataframe\n",
        "results_fractions_df[(\"accuracy\", \"lower_ci\")] = (\n",
        "    results_fractions_df[(\"accuracy\", \"mean\")]\n",
        "    - results_fractions_df[(\"accuracy\", \"std\")]\n",
        ")\n",
        "results_fractions_df[(\"accuracy\", \"upper_ci\")] = (\n",
        "    results_fractions_df[(\"accuracy\", \"mean\")]\n",
        "    + results_fractions_df[(\"accuracy\", \"std\")]\n",
        ")\n",
        "results_fractions_df.loc[\n",
        "    results_fractions_df[(\"accuracy\", \"upper_ci\")] > 1, (\"accuracy\", \"upper_ci\")\n",
        "] = 1  # set upper confidence interval to 1 if it is greater than 1\n",
        "results_fractions_df[(\"error\", \"lower_ci\")] = (\n",
        "    results_fractions_df[(\"error\", \"mean\")] - results_fractions_df[(\"error\", \"std\")]\n",
        ")\n",
        "results_fractions_df[(\"error\", \"upper_ci\")] = (\n",
        "    results_fractions_df[(\"error\", \"mean\")] + results_fractions_df[(\"error\", \"std\")]\n",
        ")\n",
        "results_fractions_df.head()\n",
        "\n",
        "# plot mean of accuracy with std as error bars\n",
        "plt.figure(figsize=(5, 3))\n",
        "sns.lineplot(\n",
        "    x=\"impute_fraction\",\n",
        "    y=(\"accuracy\", \"mean\"),\n",
        "    hue=\"impute_method\",\n",
        "    data=results_fractions_df,\n",
        "    alpha=0.8,\n",
        ")\n",
        "sns.lineplot(\n",
        "    x=\"impute_fraction\",\n",
        "    y=(\"accuracy\", \"upper_ci\"),\n",
        "    hue=\"impute_method\",\n",
        "    data=results_fractions_df,\n",
        "    alpha=0.2,\n",
        ")\n",
        "sns.lineplot(\n",
        "    x=\"impute_fraction\",\n",
        "    y=(\"accuracy\", \"lower_ci\"),\n",
        "    hue=\"impute_method\",\n",
        "    data=results_fractions_df,\n",
        "    alpha=0.2,\n",
        ")\n",
        "\n",
        "# only include first 9 entries in legend\n",
        "handles, labels = plt.gca().get_legend_handles_labels()\n",
        "plt.legend(handles[:2], labels[:2], fontsize=7)\n",
        "plt.yticks(np.arange(0.8, 1.05, 0.05))\n",
        "plt.show()\n",
        "\n",
        "# plot mean of rmse with std as error bars\n",
        "plt.figure(figsize=(5, 3))\n",
        "sns.lineplot(\n",
        "    x=\"impute_fraction\",\n",
        "    y=(\"error\", \"mean\"),\n",
        "    hue=\"impute_method\",\n",
        "    data=results_fractions_df,\n",
        "    alpha=0.8,\n",
        ")\n",
        "sns.lineplot(\n",
        "    x=\"impute_fraction\",\n",
        "    y=(\"error\", \"upper_ci\"),\n",
        "    hue=\"impute_method\",\n",
        "    data=results_fractions_df,\n",
        "    alpha=0.2,\n",
        ")\n",
        "sns.lineplot(\n",
        "    x=\"impute_fraction\",\n",
        "    y=(\"error\", \"lower_ci\"),\n",
        "    hue=\"impute_method\",\n",
        "    data=results_fractions_df,\n",
        "    alpha=0.2,\n",
        ")\n",
        "\n",
        "# only include first 9 entries in legend\n",
        "handles, labels = plt.gca().get_legend_handles_labels()\n",
        "plt.legend(handles[:2], labels[:2], fontsize=7)\n",
        "plt.ylim(0, 1)\n",
        "plt.show()"
      ]
    },
    {
      "cell_type": "code",
      "execution_count": null,
      "metadata": {
        "colab": {
          "base_uri": "https://localhost:8080/"
        },
        "id": "tWE4-ARp7nsg",
        "outputId": "abe548a5-20ed-4733-ac1c-379c2fae7205"
      },
      "outputs": [
        {
          "output_type": "execute_result",
          "data": {
            "text/plain": [
              "([<matplotlib.lines.Line2D at 0x7ab36a5e1de0>,\n",
              "  <matplotlib.lines.Line2D at 0x7ab36a5e27a0>],\n",
              " ['MICE', 'mode'])"
            ]
          },
          "metadata": {},
          "execution_count": 14
        }
      ],
      "source": [
        "handles[:2], labels[:2]"
      ]
    },
    {
      "cell_type": "code",
      "source": [],
      "metadata": {
        "id": "UAlc-g3j5DFP"
      },
      "execution_count": null,
      "outputs": []
    }
  ],
  "metadata": {
    "kernelspec": {
      "display_name": "Python 3",
      "language": "python",
      "name": "python3"
    },
    "language_info": {
      "codemirror_mode": {
        "name": "ipython",
        "version": 3
      },
      "file_extension": ".py",
      "mimetype": "text/x-python",
      "name": "python",
      "nbconvert_exporter": "python",
      "pygments_lexer": "ipython3",
      "version": "3.12.1"
    },
    "orig_nbformat": 4,
    "colab": {
      "provenance": [],
      "include_colab_link": true
    }
  },
  "nbformat": 4,
  "nbformat_minor": 0
}