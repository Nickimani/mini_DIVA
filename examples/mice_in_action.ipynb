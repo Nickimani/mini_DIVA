{
 "cells": [
  {
   "cell_type": "code",
   "execution_count": 1,
   "metadata": {},
   "outputs": [
    {
     "name": "stdout",
     "output_type": "stream",
     "text": [
      "c:\\Users\\nick\\OneDrive\\Desktop\\Prospect 33\\Mini_DIVA\n"
     ]
    }
   ],
   "source": [
    "%cd .."
   ]
  },
  {
   "cell_type": "code",
   "execution_count": 2,
   "metadata": {},
   "outputs": [],
   "source": [
    "import pandas as pd\n",
    "import numpy as np\n",
    "import matplotlib.pyplot as plt\n",
    "from sklearn.metrics import mean_squared_error\n",
    "\n",
    "import copy\n",
    "from sklearn.linear_model import LinearRegression\n",
    "from sklearn.linear_model import Lasso\n",
    "from sklearn.linear_model import Ridge\n",
    "from sklearn.linear_model import LogisticRegression\n",
    "from sklearn.preprocessing import LabelEncoder\n",
    "from sklearn.ensemble import RandomForestRegressor\n",
    "\n",
    "from utils import *\n",
    "\n",
    "from imputers.customMICEImputer import *"
   ]
  },
  {
   "cell_type": "code",
   "execution_count": 3,
   "metadata": {},
   "outputs": [],
   "source": [
    "datapath = \"./datasets/\"\n",
    "\n",
    "data, X, y, Xinds, yind = read_dataset(dataset=\"iris\", datapath=datapath)"
   ]
  },
  {
   "cell_type": "code",
   "execution_count": 4,
   "metadata": {},
   "outputs": [],
   "source": [
    "numerical_cols, categorical_cols = get_num_cat_vars(X)"
   ]
  },
  {
   "cell_type": "code",
   "execution_count": 5,
   "metadata": {},
   "outputs": [],
   "source": [
    "from sklearn.preprocessing import LabelEncoder\n",
    "\n",
    "\n",
    "def encode_categorical_columns(df, categorical_cols):\n",
    "    df_encoded = df.copy()\n",
    "    encoding_mappings = {}\n",
    "\n",
    "    for col in categorical_cols:\n",
    "        encoder = LabelEncoder()\n",
    "        df_encoded[col] = encoder.fit_transform(df_encoded[col])\n",
    "        encoding_mappings[col] = {\n",
    "            i: category for i, category in enumerate(encoder.classes_)\n",
    "        }\n",
    "\n",
    "    return df_encoded, encoding_mappings"
   ]
  },
  {
   "cell_type": "code",
   "execution_count": 6,
   "metadata": {},
   "outputs": [],
   "source": [
    "def numerical_backto_categorical(df, encoding_mappings):\n",
    "    for col_index, col_name in enumerate(df.columns):\n",
    "        if col_name in encoding_mappings:\n",
    "            mapping = encoding_mappings[col_name]\n",
    "            df[col_name] = df[col_name].apply(lambda x: mapping.get(int(x), x))\n",
    "    return df"
   ]
  },
  {
   "cell_type": "code",
   "execution_count": 7,
   "metadata": {},
   "outputs": [],
   "source": [
    "dataOriginal = copy.deepcopy(data)\n",
    "\n",
    "\n",
    "df_encoded, encoding_mappings = encode_categorical_columns(X, categorical_cols)\n",
    "dfTrain, dfTest = df_encoded.iloc[: int(0.8 * len(X))], df_encoded[int(0.8 * len(X)) :]"
   ]
  },
  {
   "cell_type": "code",
   "execution_count": 8,
   "metadata": {},
   "outputs": [],
   "source": [
    "fraction = 0.2  # 20% sparsity\n",
    "mice = customMICEImputer(\n",
    "    numerical_cols,\n",
    "    categorical_cols,\n",
    "    iteration=2,\n",
    "    methodN=\"ridge\",\n",
    "    methodC=\"random_forest\",\n",
    "    solver=\"newton-cg\",\n",
    ")\n",
    "\n",
    "df_nanTrain, nan_indsTrain = set_fraction_missing(dfTrain, fraction=fraction)\n",
    "outputTrain = mice.fit(df_nanTrain)\n",
    "outputTrain.set_index(\n",
    "    dfTrain.index, inplace=True\n",
    ")  # Need to set the index as the dfTrain\n",
    "outputTrain = numerical_backto_categorical(outputTrain, encoding_mappings)\n",
    "\n",
    "\n",
    "df_nanTest, nan_indsTest = set_fraction_missing(dfTest, fraction=fraction)\n",
    "output = mice.transform(df_nanTest)\n",
    "output.set_index(dfTest.index, inplace=True)  # Need to set the index as the dfTest\n",
    "output = numerical_backto_categorical(output, encoding_mappings)"
   ]
  },
  {
   "cell_type": "code",
   "execution_count": null,
   "metadata": {},
   "outputs": [],
   "source": []
  }
 ],
 "metadata": {
  "kernelspec": {
   "display_name": "base",
   "language": "python",
   "name": "python3"
  },
  "language_info": {
   "codemirror_mode": {
    "name": "ipython",
    "version": 3
   },
   "file_extension": ".py",
   "mimetype": "text/x-python",
   "name": "python",
   "nbconvert_exporter": "python",
   "pygments_lexer": "ipython3",
   "version": "3.10.12"
  },
  "orig_nbformat": 4
 },
 "nbformat": 4,
 "nbformat_minor": 2
}
